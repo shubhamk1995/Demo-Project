{
 "cells": [
  {
   "cell_type": "markdown",
   "id": "2dae3448",
   "metadata": {},
   "source": [
    "# Conditional statement\n",
    "\n",
    "- Execute the task on the basis of some EXPRESSION\n"
   ]
  },
  {
   "cell_type": "code",
   "execution_count": 4,
   "id": "c37604f8",
   "metadata": {},
   "outputs": [
    {
     "name": "stdout",
     "output_type": "stream",
     "text": [
      "Whats is your colour : red\n"
     ]
    }
   ],
   "source": [
    "col = input(\"Whats is your colour : \")\n",
    "\n",
    "if  col == \"blue\" :\n",
    "    print(\"Choosen colour = \",col )\n",
    "    print(\"Ending\")"
   ]
  },
  {
   "cell_type": "code",
   "execution_count": 5,
   "id": "92946c4f",
   "metadata": {},
   "outputs": [
    {
     "name": "stdout",
     "output_type": "stream",
     "text": [
      "Whats is your colour : green\n",
      "Choosen colour =  green\n",
      "200\n"
     ]
    }
   ],
   "source": [
    "col = input(\"Whats is your colour : \")\n",
    "\n",
    "if  col == \"blue\" :\n",
    "    print(\"Choosen colour = \",col )\n",
    "    print(\"Ending\")\n",
    "    \n",
    "if  col == \"red\" :\n",
    "    print(\"Choosen colour = \",col )\n",
    "    \n",
    "if  col == \"green\" :\n",
    "    print(\"Choosen colour = \",col )\n",
    "    \n",
    "if  col == \"yellow\" :\n",
    "    print(\"Choosen colour = \",col )\n",
    "    \n",
    "print(100*2)"
   ]
  },
  {
   "cell_type": "code",
   "execution_count": 11,
   "id": "d1357e5a",
   "metadata": {},
   "outputs": [
    {
     "name": "stdout",
     "output_type": "stream",
     "text": [
      "Whats is your colour : black\n",
      "NOT BLUE\n",
      "NOT RED\n",
      "NOT GREEN\n",
      "NOT YELLOW\n",
      "INVALID COLOUR\n",
      "200\n"
     ]
    }
   ],
   "source": [
    "col = input(\"Whats is your colour : \")\n",
    "\n",
    "if  col == \"blue\" :\n",
    "    print(\"Choosen colour = \",col )\n",
    "else :\n",
    "    print(\"NOT BLUE\")\n",
    "    \n",
    "if  col == \"red\" :\n",
    "    print(\"Choosen colour = \",col )\n",
    "else :\n",
    "    print(\"NOT RED\")\n",
    "    \n",
    "if  col == \"green\" :\n",
    "    print(\"Choosen colour = \",col )\n",
    "else :\n",
    "    print(\"NOT GREEN\")\n",
    "    \n",
    "if  col == \"yellow\" :\n",
    "    print(\"Choosen colour = \",col )\n",
    "else :\n",
    "    print(\"NOT YELLOW\")\n",
    "    print(\"INVALID COLOUR\")\n",
    "    \n",
    "print(100*2)"
   ]
  },
  {
   "cell_type": "code",
   "execution_count": 14,
   "id": "9f1d624f",
   "metadata": {},
   "outputs": [
    {
     "name": "stdout",
     "output_type": "stream",
     "text": [
      "Whats is your colour : black\n",
      "INVALID COLOUR\n",
      "200\n"
     ]
    }
   ],
   "source": [
    "col = input(\"Whats is your colour : \")\n",
    "\n",
    "if  col == \"blue\" :\n",
    "    print(\"Choosen colour = \",col )\n",
    "elif  col == \"red\" :\n",
    "    print(\"Choosen colour = \",col )\n",
    "elif  col == \"green\" :\n",
    "    print(\"Choosen colour = \",col )\n",
    "elif  col == \"yellow\" :\n",
    "    print(\"Choosen colour = \",col )\n",
    "else :\n",
    "    print(\"INVALID COLOUR\")\n",
    "    \n",
    "print(100*2)"
   ]
  },
  {
   "cell_type": "code",
   "execution_count": 36,
   "id": "e269251d",
   "metadata": {},
   "outputs": [
    {
     "name": "stdout",
     "output_type": "stream",
     "text": [
      "Enter any number : 55\n",
      "Enter another number : 55\n",
      " x is Equal to y\n"
     ]
    }
   ],
   "source": [
    "col = input(\"Whats is your colour : \")\n",
    "\n",
    "if  col == \"blue\" :\n",
    "    print(\"Choosen colour = \",col )\n",
    "else :\n",
    "    print(\"NOT BLUE\")\n",
    "    \n",
    "if  col == \"red\" :\n",
    "    print(\"Choosen colour = \",col )\n",
    "else :\n",
    "    print(\"NOT RED\")\n",
    "    \n",
    "if  col == \"green\" :\n",
    "    print(\"Choosen colour = \",col )\n",
    "else :\n",
    "    print(\"NOT GREEN\")\n",
    "    \n",
    "if  col == \"yellow\" :\n",
    "    print(\"Choosen colour = \",col )\n",
    "else :\n",
    "    print(\"NOT YELLOW\")\n",
    "    print(\"INVALID COLOUR\")\n",
    "    \n",
    "print(100*2)\n",
    "    "
   ]
  },
  {
   "cell_type": "code",
   "execution_count": 37,
   "id": "c57acb7f",
   "metadata": {},
   "outputs": [
    {
     "name": "stdout",
     "output_type": "stream",
     "text": [
      "Enter any number : 66\n",
      "Enter another  number : 66\n",
      " Both numbers are Equal\n"
     ]
    }
   ],
   "source": [
    "x =input(\"Enter any number : \")\n",
    "y = input(\"Enter another  number : \")\n",
    "\n",
    "if x==y :\n",
    "    print(\" Both numbers are Equal\", )\n",
    "elif x>y :\n",
    "    print(\" x is greater than y\", )\n",
    "else :\n",
    "    print(\"y is greater than x\", )\n",
    "    "
   ]
  },
  {
   "cell_type": "code",
   "execution_count": 38,
   "id": "10ffc3f3",
   "metadata": {},
   "outputs": [
    {
     "name": "stdout",
     "output_type": "stream",
     "text": [
      "Enter any number : 99\n",
      "Enter another  number : 20\n",
      " x is greater than y\n"
     ]
    }
   ],
   "source": [
    "x =input(\"Enter any number : \")\n",
    "y = input(\"Enter another  number : \")\n",
    "\n",
    "if x==y :\n",
    "    print(\" Both numbers are Equal\", )\n",
    "elif x>y :\n",
    "    print(\" x is greater than y\", )\n",
    "else :\n",
    "    print(\"y is greater than x\", )\n",
    "    "
   ]
  },
  {
   "cell_type": "code",
   "execution_count": 39,
   "id": "8f2d60c9",
   "metadata": {},
   "outputs": [
    {
     "name": "stdout",
     "output_type": "stream",
     "text": [
      "Enter any number : 10\n",
      "Enter another  number : 69\n",
      "y is greater than x\n"
     ]
    }
   ],
   "source": [
    "x =input(\"Enter any number : \")\n",
    "y = input(\"Enter another  number : \")\n",
    "\n",
    "if x==y :\n",
    "    print(\" Both numbers are Equal\", )\n",
    "elif x>y :\n",
    "    print(\" x is greater than y\", )\n",
    "else :\n",
    "    print(\"y is greater than x\", )\n",
    "    "
   ]
  },
  {
   "cell_type": "code",
   "execution_count": null,
   "id": "8b43854d",
   "metadata": {},
   "outputs": [],
   "source": []
  },
  {
   "cell_type": "code",
   "execution_count": null,
   "id": "638b5fdf",
   "metadata": {},
   "outputs": [],
   "source": []
  }
 ],
 "metadata": {
  "kernelspec": {
   "display_name": "Python 3 (ipykernel)",
   "language": "python",
   "name": "python3"
  },
  "language_info": {
   "codemirror_mode": {
    "name": "ipython",
    "version": 3
   },
   "file_extension": ".py",
   "mimetype": "text/x-python",
   "name": "python",
   "nbconvert_exporter": "python",
   "pygments_lexer": "ipython3",
   "version": "3.9.13"
  }
 },
 "nbformat": 4,
 "nbformat_minor": 5
}
